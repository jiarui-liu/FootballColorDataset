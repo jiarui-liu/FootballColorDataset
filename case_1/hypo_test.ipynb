{
 "cells": [
  {
   "cell_type": "markdown",
   "metadata": {},
   "source": [
    "Calculate subjective scores"
   ]
  },
  {
   "cell_type": "code",
   "execution_count": null,
   "metadata": {},
   "outputs": [],
   "source": [
    "import numpy as np\n",
    "from helper import *\n",
    "models = [\n",
    "    (\"alpaca\", 'results_alpaca.csv'),\n",
    "    (\"gpt-4-1106-preview\", 'gpt_results.csv'),\n",
    "    (\"llama2_7b\", 'results_llama7B.csv'),\n",
    "    (\"llama2_13b\", 'results_llama13B.csv'),\n",
    "    (\"vicuna_7b\", 'results_vicuna7B.csv'),\n",
    "    (\"vicuna_13b\", 'results_vicuna13B.csv'),\n",
    "    (\"llama2_70b\", 'llama_results.csv')\n",
    "]\n",
    "subj_path = \"data/subjective/results/{filename}\"\n",
    "for model, subj_filename in models:\n",
    "    print(model)\n",
    "    scores = get_permutation_score_list(\n",
    "        f\"/home/jiaruil5/football/reproduce/case_1_dataset/data/scores_w_football/records_answers_{model}.txt\",\n",
    "        subj_path.format(filename=subj_filename),\n",
    "        mode='subj'\n",
    "    )\n",
    "    \n",
    "    res = get_similarity_p(scores)\n",
    "    print(np.mean(scores))"
   ]
  },
  {
   "cell_type": "markdown",
   "metadata": {},
   "source": [
    "Calculate objective scores"
   ]
  },
  {
   "cell_type": "code",
   "execution_count": null,
   "metadata": {},
   "outputs": [],
   "source": [
    "for model, subj_filename in models:\n",
    "    print(model)\n",
    "    scores = get_permutation_score_list(\n",
    "        f\"/home/jiaruil5/football/reproduce/case_1_dataset/data/scores_w_football/records_answers_{model}.txt\",\n",
    "        subj_path.format(filename=subj_filename),\n",
    "        mode='obj'\n",
    "    )\n",
    "    \n",
    "    res = get_similarity_p(scores)\n",
    "    print(np.mean(scores))"
   ]
  },
  {
   "cell_type": "markdown",
   "metadata": {},
   "source": [
    "Calculate scores in total"
   ]
  },
  {
   "cell_type": "code",
   "execution_count": null,
   "metadata": {},
   "outputs": [],
   "source": [
    "for model, subj_filename in models:\n",
    "    print(model)\n",
    "    scores = get_permutation_score_list(\n",
    "        f\"/home/jiaruil5/football/reproduce/case_1_dataset/data/scores_w_football/records_answers_{model}.txt\",\n",
    "        subj_path.format(filename=subj_filename),\n",
    "        mode='both'\n",
    "    )\n",
    "    \n",
    "    res = get_similarity_p(scores)\n",
    "    print(np.mean(scores))"
   ]
  }
 ],
 "metadata": {
  "language_info": {
   "name": "python"
  }
 },
 "nbformat": 4,
 "nbformat_minor": 2
}
